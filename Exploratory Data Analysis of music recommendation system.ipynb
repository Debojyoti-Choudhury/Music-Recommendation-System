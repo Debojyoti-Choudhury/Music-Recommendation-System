{
 "cells": [
  {
   "cell_type": "markdown",
   "id": "786da041",
   "metadata": {},
   "source": [
    "# Exploratory Data Analysis of Music Recommendation System\n",
    "\n",
    "**Submitted By:** Debojyoti Choudhury\n",
    "\n",
    "**Enrollment Number:** 40AIML137-21/2\n",
    "\n",
    "**Programme:** Diploma in AI and ML"
   ]
  },
  {
   "cell_type": "markdown",
   "id": "c891ece4",
   "metadata": {},
   "source": [
    "## The data\n",
    "\n",
    "- The data is obtained from Kaggle [WSDM-KKBox's Music Recommendation Challenge](https://www.kaggle.com/competitions/kkbox-music-recommendation-challenge/data).\n",
    "\n",
    "- The data are in the zip format. I have downloaded all the data for this task in zip format using kaggle api and stored the zipped data in \"./Data/Zipped\" folder.\n",
    "\n",
    "- The I unzipped the data and kept the csv files in the \"./Data\" folder."
   ]
  },
  {
   "cell_type": "markdown",
   "id": "ed981bfd",
   "metadata": {},
   "source": [
    "## Importing the necessary libraries"
   ]
  },
  {
   "cell_type": "code",
   "execution_count": 1,
   "id": "39eca36d",
   "metadata": {},
   "outputs": [],
   "source": [
    "import numpy as np                       # for fast processing of tabular data\n",
    "import pandas as pd                      # data processing, CSV file I/O\n",
    "import matplotlib.pyplot as plt          # for data visualization\n",
    "import seaborn as sns                    # for data visualization"
   ]
  },
  {
   "cell_type": "markdown",
   "id": "ab630830",
   "metadata": {},
   "source": [
    "## Reading the files in csv format and getting preliminary information"
   ]
  },
  {
   "cell_type": "markdown",
   "id": "33c5c92d",
   "metadata": {},
   "source": [
    "### train.csv file"
   ]
  },
  {
   "cell_type": "code",
   "execution_count": 2,
   "id": "7b6d3386",
   "metadata": {},
   "outputs": [],
   "source": [
    "train_data = pd.read_csv(\"../Data/train.csv\", sep = ',')"
   ]
  },
  {
   "cell_type": "markdown",
   "id": "80ac2a4d",
   "metadata": {},
   "source": [
    "#### Printing the first few rows"
   ]
  },
  {
   "cell_type": "code",
   "execution_count": 3,
   "id": "e9329dda",
   "metadata": {},
   "outputs": [
    {
     "data": {
      "text/html": [
       "<div>\n",
       "<style scoped>\n",
       "    .dataframe tbody tr th:only-of-type {\n",
       "        vertical-align: middle;\n",
       "    }\n",
       "\n",
       "    .dataframe tbody tr th {\n",
       "        vertical-align: top;\n",
       "    }\n",
       "\n",
       "    .dataframe thead th {\n",
       "        text-align: right;\n",
       "    }\n",
       "</style>\n",
       "<table border=\"1\" class=\"dataframe\">\n",
       "  <thead>\n",
       "    <tr style=\"text-align: right;\">\n",
       "      <th></th>\n",
       "      <th>msno</th>\n",
       "      <th>song_id</th>\n",
       "      <th>source_system_tab</th>\n",
       "      <th>source_screen_name</th>\n",
       "      <th>source_type</th>\n",
       "      <th>target</th>\n",
       "    </tr>\n",
       "  </thead>\n",
       "  <tbody>\n",
       "    <tr>\n",
       "      <th>0</th>\n",
       "      <td>FGtllVqz18RPiwJj/edr2gV78zirAiY/9SmYvia+kCg=</td>\n",
       "      <td>BBzumQNXUHKdEBOB7mAJuzok+IJA1c2Ryg/yzTF6tik=</td>\n",
       "      <td>explore</td>\n",
       "      <td>Explore</td>\n",
       "      <td>online-playlist</td>\n",
       "      <td>1</td>\n",
       "    </tr>\n",
       "    <tr>\n",
       "      <th>1</th>\n",
       "      <td>Xumu+NIjS6QYVxDS4/t3SawvJ7viT9hPKXmf0RtLNx8=</td>\n",
       "      <td>bhp/MpSNoqoxOIB+/l8WPqu6jldth4DIpCm3ayXnJqM=</td>\n",
       "      <td>my library</td>\n",
       "      <td>Local playlist more</td>\n",
       "      <td>local-playlist</td>\n",
       "      <td>1</td>\n",
       "    </tr>\n",
       "    <tr>\n",
       "      <th>2</th>\n",
       "      <td>Xumu+NIjS6QYVxDS4/t3SawvJ7viT9hPKXmf0RtLNx8=</td>\n",
       "      <td>JNWfrrC7zNN7BdMpsISKa4Mw+xVJYNnxXh3/Epw7QgY=</td>\n",
       "      <td>my library</td>\n",
       "      <td>Local playlist more</td>\n",
       "      <td>local-playlist</td>\n",
       "      <td>1</td>\n",
       "    </tr>\n",
       "    <tr>\n",
       "      <th>3</th>\n",
       "      <td>Xumu+NIjS6QYVxDS4/t3SawvJ7viT9hPKXmf0RtLNx8=</td>\n",
       "      <td>2A87tzfnJTSWqD7gIZHisolhe4DMdzkbd6LzO1KHjNs=</td>\n",
       "      <td>my library</td>\n",
       "      <td>Local playlist more</td>\n",
       "      <td>local-playlist</td>\n",
       "      <td>1</td>\n",
       "    </tr>\n",
       "    <tr>\n",
       "      <th>4</th>\n",
       "      <td>FGtllVqz18RPiwJj/edr2gV78zirAiY/9SmYvia+kCg=</td>\n",
       "      <td>3qm6XTZ6MOCU11x8FIVbAGH5l5uMkT3/ZalWG1oo2Gc=</td>\n",
       "      <td>explore</td>\n",
       "      <td>Explore</td>\n",
       "      <td>online-playlist</td>\n",
       "      <td>1</td>\n",
       "    </tr>\n",
       "    <tr>\n",
       "      <th>5</th>\n",
       "      <td>FGtllVqz18RPiwJj/edr2gV78zirAiY/9SmYvia+kCg=</td>\n",
       "      <td>3Hg5kugV1S0wzEVLAEfqjIV5UHzb7bCrdBRQlGygLvU=</td>\n",
       "      <td>explore</td>\n",
       "      <td>Explore</td>\n",
       "      <td>online-playlist</td>\n",
       "      <td>1</td>\n",
       "    </tr>\n",
       "    <tr>\n",
       "      <th>6</th>\n",
       "      <td>Xumu+NIjS6QYVxDS4/t3SawvJ7viT9hPKXmf0RtLNx8=</td>\n",
       "      <td>VkILU0H1h3NMmk9MQrXouNudGk5n8Ls5cqRRuBxeTh4=</td>\n",
       "      <td>my library</td>\n",
       "      <td>Local playlist more</td>\n",
       "      <td>local-playlist</td>\n",
       "      <td>1</td>\n",
       "    </tr>\n",
       "    <tr>\n",
       "      <th>7</th>\n",
       "      <td>FGtllVqz18RPiwJj/edr2gV78zirAiY/9SmYvia+kCg=</td>\n",
       "      <td>bPIvRTzfHxH5LgHrStll+tYwSQNVV8PySgA3M1PfTgc=</td>\n",
       "      <td>explore</td>\n",
       "      <td>Explore</td>\n",
       "      <td>online-playlist</td>\n",
       "      <td>1</td>\n",
       "    </tr>\n",
       "    <tr>\n",
       "      <th>8</th>\n",
       "      <td>uHqAtShXTRXju5GE8ri3ITsVFepPf8jUoCF7ffNOuqE=</td>\n",
       "      <td>/bU6IRSK+YNlNbaTkxo7bhsb2EDLPrnksdX3ggcZNhI=</td>\n",
       "      <td>my library</td>\n",
       "      <td>Local playlist more</td>\n",
       "      <td>local-library</td>\n",
       "      <td>1</td>\n",
       "    </tr>\n",
       "    <tr>\n",
       "      <th>9</th>\n",
       "      <td>uHqAtShXTRXju5GE8ri3ITsVFepPf8jUoCF7ffNOuqE=</td>\n",
       "      <td>EbI7xoNxI+3QSsiHxL13zBdgHIJOwa3srHd7cDcnJ0g=</td>\n",
       "      <td>my library</td>\n",
       "      <td>Local playlist more</td>\n",
       "      <td>local-library</td>\n",
       "      <td>1</td>\n",
       "    </tr>\n",
       "  </tbody>\n",
       "</table>\n",
       "</div>"
      ],
      "text/plain": [
       "                                           msno  \\\n",
       "0  FGtllVqz18RPiwJj/edr2gV78zirAiY/9SmYvia+kCg=   \n",
       "1  Xumu+NIjS6QYVxDS4/t3SawvJ7viT9hPKXmf0RtLNx8=   \n",
       "2  Xumu+NIjS6QYVxDS4/t3SawvJ7viT9hPKXmf0RtLNx8=   \n",
       "3  Xumu+NIjS6QYVxDS4/t3SawvJ7viT9hPKXmf0RtLNx8=   \n",
       "4  FGtllVqz18RPiwJj/edr2gV78zirAiY/9SmYvia+kCg=   \n",
       "5  FGtllVqz18RPiwJj/edr2gV78zirAiY/9SmYvia+kCg=   \n",
       "6  Xumu+NIjS6QYVxDS4/t3SawvJ7viT9hPKXmf0RtLNx8=   \n",
       "7  FGtllVqz18RPiwJj/edr2gV78zirAiY/9SmYvia+kCg=   \n",
       "8  uHqAtShXTRXju5GE8ri3ITsVFepPf8jUoCF7ffNOuqE=   \n",
       "9  uHqAtShXTRXju5GE8ri3ITsVFepPf8jUoCF7ffNOuqE=   \n",
       "\n",
       "                                        song_id source_system_tab  \\\n",
       "0  BBzumQNXUHKdEBOB7mAJuzok+IJA1c2Ryg/yzTF6tik=           explore   \n",
       "1  bhp/MpSNoqoxOIB+/l8WPqu6jldth4DIpCm3ayXnJqM=        my library   \n",
       "2  JNWfrrC7zNN7BdMpsISKa4Mw+xVJYNnxXh3/Epw7QgY=        my library   \n",
       "3  2A87tzfnJTSWqD7gIZHisolhe4DMdzkbd6LzO1KHjNs=        my library   \n",
       "4  3qm6XTZ6MOCU11x8FIVbAGH5l5uMkT3/ZalWG1oo2Gc=           explore   \n",
       "5  3Hg5kugV1S0wzEVLAEfqjIV5UHzb7bCrdBRQlGygLvU=           explore   \n",
       "6  VkILU0H1h3NMmk9MQrXouNudGk5n8Ls5cqRRuBxeTh4=        my library   \n",
       "7  bPIvRTzfHxH5LgHrStll+tYwSQNVV8PySgA3M1PfTgc=           explore   \n",
       "8  /bU6IRSK+YNlNbaTkxo7bhsb2EDLPrnksdX3ggcZNhI=        my library   \n",
       "9  EbI7xoNxI+3QSsiHxL13zBdgHIJOwa3srHd7cDcnJ0g=        my library   \n",
       "\n",
       "    source_screen_name      source_type  target  \n",
       "0              Explore  online-playlist       1  \n",
       "1  Local playlist more   local-playlist       1  \n",
       "2  Local playlist more   local-playlist       1  \n",
       "3  Local playlist more   local-playlist       1  \n",
       "4              Explore  online-playlist       1  \n",
       "5              Explore  online-playlist       1  \n",
       "6  Local playlist more   local-playlist       1  \n",
       "7              Explore  online-playlist       1  \n",
       "8  Local playlist more    local-library       1  \n",
       "9  Local playlist more    local-library       1  "
      ]
     },
     "execution_count": 3,
     "metadata": {},
     "output_type": "execute_result"
    }
   ],
   "source": [
    "train_data.head(10)"
   ]
  },
  {
   "cell_type": "markdown",
   "id": "4a7407b6",
   "metadata": {},
   "source": [
    "#### Getting the info of the train_data DataFrame"
   ]
  },
  {
   "cell_type": "code",
   "execution_count": 4,
   "id": "bb794a9a",
   "metadata": {},
   "outputs": [
    {
     "name": "stdout",
     "output_type": "stream",
     "text": [
      "<class 'pandas.core.frame.DataFrame'>\n",
      "RangeIndex: 7377418 entries, 0 to 7377417\n",
      "Data columns (total 6 columns):\n",
      " #   Column              Dtype \n",
      "---  ------              ----- \n",
      " 0   msno                object\n",
      " 1   song_id             object\n",
      " 2   source_system_tab   object\n",
      " 3   source_screen_name  object\n",
      " 4   source_type         object\n",
      " 5   target              int64 \n",
      "dtypes: int64(1), object(5)\n",
      "memory usage: 337.7+ MB\n"
     ]
    }
   ],
   "source": [
    "train_data.info()"
   ]
  },
  {
   "cell_type": "markdown",
   "id": "af76587d",
   "metadata": {},
   "source": [
    "The train.csv files contains ```7377418``` (approx 7.4 million) records and ```6``` columns"
   ]
  },
  {
   "cell_type": "markdown",
   "id": "3c2a2d32",
   "metadata": {},
   "source": [
    "As obtained from the Kaggle, the train.csv file hence train_data dataframe will contain following columns \n",
    "\n",
    "- **msno:** identification of the user\n",
    "\n",
    "- **song_id:** identification of the song\n",
    "\n",
    "- **source_system_tab:** the name of the tab where the event was triggered. System tabs are used to categorize KKBOX mobile apps functions. For example, tab ```my library``` contains functions to manipulate the local storage, and tab ```search``` contains functions relating to search.\n",
    "\n",
    "- **source_screen_name:** name of the layout a user sees.\n",
    "\n",
    "- **source_type:** an entry point a user first plays music on mobile apps. An entry point could be album, online-playlist, song .. etc.\n",
    "\n",
    "- **target:** this is the target variable. target=1 means there are recurring listening event(s) triggered within a month after the user’s very first observable listening event, target=0 otherwise."
   ]
  },
  {
   "cell_type": "markdown",
   "id": "7f8da18e",
   "metadata": {},
   "source": [
    "#### Anlysis of NULL values"
   ]
  },
  {
   "cell_type": "code",
   "execution_count": 26,
   "id": "3ede78d0",
   "metadata": {},
   "outputs": [
    {
     "data": {
      "text/plain": [
       "msno                       0\n",
       "song_id                    0\n",
       "source_system_tab      24849\n",
       "source_screen_name    414804\n",
       "source_type            21539\n",
       "target                     0\n",
       "dtype: int64"
      ]
     },
     "execution_count": 26,
     "metadata": {},
     "output_type": "execute_result"
    }
   ],
   "source": [
    "train_data.isna().sum()"
   ]
  },
  {
   "cell_type": "code",
   "execution_count": 27,
   "id": "dcb514ff",
   "metadata": {},
   "outputs": [
    {
     "data": {
      "text/plain": [
       "msno                  0.000000\n",
       "song_id               0.000000\n",
       "source_system_tab     0.336825\n",
       "source_screen_name    5.622618\n",
       "source_type           0.291959\n",
       "target                0.000000\n",
       "dtype: float64"
      ]
     },
     "execution_count": 27,
     "metadata": {},
     "output_type": "execute_result"
    }
   ],
   "source": [
    "100 * train_data.isna().sum() / len(train_data)"
   ]
  },
  {
   "cell_type": "markdown",
   "id": "c8eb3d4e",
   "metadata": {},
   "source": [
    "- source_screen_name has maximum number of missing data (approx 5.62% data are missing in this column)"
   ]
  },
  {
   "cell_type": "markdown",
   "id": "cdf456a7",
   "metadata": {},
   "source": [
    "#### How many unique users are there in the training dataset?"
   ]
  },
  {
   "cell_type": "code",
   "execution_count": 5,
   "id": "81fe4c33",
   "metadata": {},
   "outputs": [
    {
     "name": "stdout",
     "output_type": "stream",
     "text": [
      "There are 30755 numbers of unique users in the training dataset\n"
     ]
    }
   ],
   "source": [
    "print(f\"There are {train_data['msno'].nunique()} numbers of unique users in the training dataset\")"
   ]
  },
  {
   "cell_type": "markdown",
   "id": "f5ba4d72",
   "metadata": {},
   "source": [
    "#### How many unique songs are there in the training dataset?"
   ]
  },
  {
   "cell_type": "code",
   "execution_count": 6,
   "id": "eafaa38f",
   "metadata": {},
   "outputs": [
    {
     "name": "stdout",
     "output_type": "stream",
     "text": [
      "There are 359966 numbers of unique songs in the training dataset\n"
     ]
    }
   ],
   "source": [
    "print(f\"There are {train_data['song_id'].nunique()} numbers of unique songs in the training dataset\")"
   ]
  },
  {
   "cell_type": "markdown",
   "id": "b3ac6eb1",
   "metadata": {},
   "source": [
    "#### Analysis of target variable\n",
    "\n",
    "We ask the following questions:\n",
    "\n",
    "- How many times do the user listen to the song again? (i.e. what % of the train data has target = 1)\n",
    "\n",
    "- How many times there is no repeated listening event? (i.e. what % of the train data has target = 0)"
   ]
  },
  {
   "cell_type": "code",
   "execution_count": 7,
   "id": "b4da0264",
   "metadata": {},
   "outputs": [
    {
     "name": "stdout",
     "output_type": "stream",
     "text": [
      "Songs repeated as percentage of training data: 50.35%\n",
      "Songs didn't repeat as percentage of training data: 49.65%\n"
     ]
    }
   ],
   "source": [
    "number_of_training_data = len(train_data)\n",
    "\n",
    "number_of_data_with_target_1 = len(train_data[train_data['target']==1])\n",
    "\n",
    "number_of_data_with_target_0 = len(train_data[train_data['target']==0])\n",
    "\n",
    "print(f\"Songs repeated as percentage of training data: {round(100*number_of_data_with_target_1/number_of_training_data,2)}%\")\n",
    "\n",
    "print(f\"Songs didn't repeat as percentage of training data: {round(100*number_of_data_with_target_0/number_of_training_data,2)}%\")"
   ]
  },
  {
   "cell_type": "markdown",
   "id": "87f1e6ee",
   "metadata": {},
   "source": [
    "**From the above information it is clear that the dataset is balanced**"
   ]
  },
  {
   "cell_type": "markdown",
   "id": "234ce803",
   "metadata": {},
   "source": [
    "#### Which songs have repeated most\n",
    "\n",
    "Top-20 songs which have repeated most"
   ]
  },
  {
   "cell_type": "code",
   "execution_count": 8,
   "id": "ef46437b",
   "metadata": {},
   "outputs": [],
   "source": [
    "repeated = train_data[train_data['target']==1]"
   ]
  },
  {
   "cell_type": "code",
   "execution_count": 9,
   "id": "a26b0fc4",
   "metadata": {},
   "outputs": [
    {
     "data": {
      "text/plain": [
       "reXuGcEWDDCnL0K3Th//3DFG4S1ACSpJMzA+CFipo1g=    10885\n",
       "T86YHdD4C9JSc274b1IlMkLuNdz4BQRB50fWWE7hx9g=    10556\n",
       "FynUyq0+drmIARmK1JZ/qcjNZ7DKkqTY6/0O0lTzNUI=     9808\n",
       "wBTWuHbjdjxnG1lQcbqnK4FddV24rUhuyrYLd9c/hmk=     9411\n",
       "PgRtmmESVNtWjoZHO5a1r21vIz9sVZmcJJpFCbRa1LI=     9004\n",
       "U9kojfZSKaiWOW94PKh1Riyv/zUWxmBRmv0XInQWLGw=     8787\n",
       "YN4T/yvvXtYrBVN8KTnieiQohHL3T9fnzUkbLWcgLro=     8780\n",
       "M9rAajz4dYuRhZ7jLvf9RRayVA3os61X/XXHEuW4giA=     8403\n",
       "43Qm2YzsP99P5wm37B1JIhezUcQ/1CDjYlQx6rBbz2U=     8112\n",
       "J4qKkLIoW7aYACuTupHLAPZYmRp08en1AEux+GSUzdw=     7903\n",
       "cy10N2j2sdY/X4BDUcMu2Iumfz7pV3tqE5iEaup2yGI=     7725\n",
       "750RprmFfLV0bymtDH88g24pLZGVi5VpBAI300P6UOA=     7608\n",
       "IKMFuL0f5Y8c63Hg9BXkeNJjE0z8yf3gMt/tOxF4QNE=     7224\n",
       "+SstqMwhQPBQFTPBhLKPT642IiBDXzZFwlzsLl4cGXo=     7061\n",
       "DLBDZhOoW7zd7GBV99bi92ZXYUS26lzV+jJKbHshP5c=     6901\n",
       "v/3onppBGoSpGsWb8iaCIO8eX5+iacbH5a4ZUhT7N54=     6879\n",
       "p/yR06j/RQ2J6yGCFL0K+1R06OeG+eXcwxRgOHDo/Tk=     6536\n",
       "Xpjwi8UAE2Vv9PZ6cZnhc58MCtl3cKZEO1sdAkqJ4mo=     6399\n",
       "OaEbZ6TJ1NePtNUeEgWsvFLeopkSln9WQu8PBR5B3+A=     6187\n",
       "BITuBuNyXQydJcjDL2BUnCu4/IXaJg5IPOuycc/4dtY=     6160\n",
       "Name: song_id, dtype: int64"
      ]
     },
     "execution_count": 9,
     "metadata": {},
     "output_type": "execute_result"
    }
   ],
   "source": [
    "repeated['song_id'].value_counts()[:20]"
   ]
  },
  {
   "cell_type": "markdown",
   "id": "5a9af543",
   "metadata": {},
   "source": [
    "#### Which users are responsible for most number of repeats"
   ]
  },
  {
   "cell_type": "code",
   "execution_count": 10,
   "id": "a6b4439f",
   "metadata": {},
   "outputs": [
    {
     "data": {
      "text/plain": [
       "o+5RNlSWrzvrphgBNGIo1FLkGxBgyICns6qXj3nS7Pk=    3288\n",
       "KGXNZ/H3VxvET/+rGxlrAe7Gpz2eKMXyuSg3xh8Ij1M=    2818\n",
       "FGtllVqz18RPiwJj/edr2gV78zirAiY/9SmYvia+kCg=    2791\n",
       "MXIMDXO0j3UpaT7FvOSGW6Y5zfhlh+xYjTqGoUdMzEE=    2069\n",
       "dU4RbzpIRRd/EkA9Xncpy9CglzDBZp7nKMfdnfr3Aj8=    1978\n",
       "4DlS5LiANEKlMTQD08dakyV1JWwPYI/n1wyjx4ImjPc=    1814\n",
       "JkQacE3rvmhh65R04eDLbu+M7MCkpzmHwMGrbZo0puc=    1806\n",
       "uCDJmSDTzA5PpnYGqKvNmFbwBIoS3jIXFbO5YfoCv/Y=    1794\n",
       "1wiu2UfN0BNhHfPTrDS3S/rQkX/vnwDoKH6ODTUdH9k=    1737\n",
       "cqjRBV/jWN2ujhc+z/4tz+Mj6xEfflAAt6qBXCqxKvw=    1735\n",
       "7xiBI5xU3P2/IiR9teB7jySfzWo96JGikGajteLd3Cs=    1715\n",
       "HVcWdf8CEo9s6qwt5V7TpoPYJfRlQSTA6b7kxEAImpc=    1710\n",
       "mDJCU+fKu/mbdk9l4SmPYiJwpeMyK44o9wmG1X3735A=    1607\n",
       "V39VxDdE9SgMQZnX58oQChm9W056pw2lC3TiifMfkKw=    1602\n",
       "LThaiVqGGnVTPmTcmwN/LLo4fVb5dzkduzd7s1SgzIA=    1578\n",
       "EZmIP7zKgqKwpEHnuDjRIkzCmcLNlHn4hkiglZ5LxK8=    1539\n",
       "00qmlWC3H/cjf2Ig1li5xIO0VNDRgBX0f9ilouDBEZs=    1533\n",
       "x+k/zTEqdgYq6O+r1iDjKRaQnaCS5118gzBe8c12r1Y=    1503\n",
       "K7obY5lUlZTd6a/byE9NG/e7Q/dlgHfppLbYk8OL7os=    1498\n",
       "saNgxsUQwx4IXBRgFF0w3uJN6KzvQBEv3dI7dDaz97g=    1488\n",
       "Name: msno, dtype: int64"
      ]
     },
     "execution_count": 10,
     "metadata": {},
     "output_type": "execute_result"
    }
   ],
   "source": [
    "repeated['msno'].value_counts()[:20]"
   ]
  },
  {
   "cell_type": "markdown",
   "id": "076b8fe9",
   "metadata": {},
   "source": [
    "#### Different source_system_tab and their counts"
   ]
  },
  {
   "cell_type": "code",
   "execution_count": 11,
   "id": "d3cd3092",
   "metadata": {},
   "outputs": [
    {
     "data": {
      "text/plain": [
       "8"
      ]
     },
     "execution_count": 11,
     "metadata": {},
     "output_type": "execute_result"
    }
   ],
   "source": [
    "train_data['source_system_tab'].nunique()"
   ]
  },
  {
   "cell_type": "markdown",
   "id": "7dba993f",
   "metadata": {},
   "source": [
    "There are `8` unique `source_system_tab`. They are following:"
   ]
  },
  {
   "cell_type": "code",
   "execution_count": 12,
   "id": "f3fba3eb",
   "metadata": {},
   "outputs": [
    {
     "data": {
      "text/plain": [
       "array(['explore', 'my library', 'search', 'discover', nan, 'radio',\n",
       "       'listen with', 'notification', 'settings'], dtype=object)"
      ]
     },
     "execution_count": 12,
     "metadata": {},
     "output_type": "execute_result"
    }
   ],
   "source": [
    "train_data['source_system_tab'].unique()"
   ]
  },
  {
   "cell_type": "markdown",
   "id": "80c6c819",
   "metadata": {},
   "source": [
    "We are going to count the number of each of source_system_tab"
   ]
  },
  {
   "cell_type": "code",
   "execution_count": 13,
   "id": "90212afd",
   "metadata": {},
   "outputs": [
    {
     "data": {
      "text/plain": [
       "my library      3684730\n",
       "discover        2179252\n",
       "search           623286\n",
       "radio            476701\n",
       "listen with      212266\n",
       "explore          167949\n",
       "notification       6185\n",
       "settings           2200\n",
       "Name: source_system_tab, dtype: int64"
      ]
     },
     "execution_count": 13,
     "metadata": {},
     "output_type": "execute_result"
    }
   ],
   "source": [
    "train_data['source_system_tab'].value_counts()"
   ]
  },
  {
   "cell_type": "code",
   "execution_count": 14,
   "id": "7d6640f2",
   "metadata": {},
   "outputs": [
    {
     "data": {
      "image/png": "[encoded data removed]",
      "text/plain": [
       "<Figure size 864x576 with 1 Axes>"
      ]
     },
     "metadata": {
      "needs_background": "light"
     },
     "output_type": "display_data"
    }
   ],
   "source": [
    "plt.figure(figsize=(12,8))\n",
    "\n",
    "sns.countplot(x='source_system_tab', data=train_data)\n",
    "\n",
    "plt.title('Number of Different Source System Tab',fontsize=14)\n",
    "\n",
    "plt.show()"
   ]
  },
  {
   "cell_type": "markdown",
   "id": "e6140572",
   "metadata": {},
   "source": [
    "#### Different source_screen_name and their counts"
   ]
  },
  {
   "cell_type": "code",
   "execution_count": 15,
   "id": "dbb273ee",
   "metadata": {},
   "outputs": [
    {
     "data": {
      "text/plain": [
       "20"
      ]
     },
     "execution_count": 15,
     "metadata": {},
     "output_type": "execute_result"
    }
   ],
   "source": [
    "train_data['source_screen_name'].nunique()"
   ]
  },
  {
   "cell_type": "markdown",
   "id": "7374b589",
   "metadata": {},
   "source": [
    "There are `20` unique `source screen name` and these are:"
   ]
  },
  {
   "cell_type": "code",
   "execution_count": 16,
   "id": "75e0483d",
   "metadata": {},
   "outputs": [
    {
     "data": {
      "text/plain": [
       "array(['Explore', 'Local playlist more', nan, 'My library',\n",
       "       'Online playlist more', 'Album more', 'Discover Feature',\n",
       "       'Unknown', 'Discover Chart', 'Radio', 'Artist more', 'Search',\n",
       "       'Others profile more', 'Search Trends', 'Discover Genre',\n",
       "       'My library_Search', 'Search Home', 'Discover New',\n",
       "       'Self profile more', 'Concert', 'Payment'], dtype=object)"
      ]
     },
     "execution_count": 16,
     "metadata": {},
     "output_type": "execute_result"
    }
   ],
   "source": [
    "train_data['source_screen_name'].unique()"
   ]
  },
  {
   "cell_type": "code",
   "execution_count": 17,
   "id": "b5ac6260",
   "metadata": {},
   "outputs": [
    {
     "data": {
      "text/plain": [
       "Local playlist more     3228202\n",
       "Online playlist more    1294689\n",
       "Radio                    474467\n",
       "Album more               420156\n",
       "Search                   298487\n",
       "Artist more              252429\n",
       "Discover Feature         244246\n",
       "Discover Chart           213658\n",
       "Others profile more      201795\n",
       "Discover Genre            82202\n",
       "My library                75980\n",
       "Explore                   72342\n",
       "Unknown                   54170\n",
       "Discover New              15955\n",
       "Search Trends             13632\n",
       "Search Home               13482\n",
       "My library_Search          6451\n",
       "Self profile more           212\n",
       "Concert                      47\n",
       "Payment                      12\n",
       "Name: source_screen_name, dtype: int64"
      ]
     },
     "execution_count": 17,
     "metadata": {},
     "output_type": "execute_result"
    }
   ],
   "source": [
    "train_data['source_screen_name'].value_counts()"
   ]
  },
  {
   "cell_type": "code",
   "execution_count": 18,
   "id": "1e2bb5c6",
   "metadata": {},
   "outputs": [
    {
     "data": {
      "image/png": "[encoded data removed]",
      "text/plain": [
       "<Figure size 1152x864 with 1 Axes>"
      ]
     },
     "metadata": {
      "needs_background": "light"
     },
     "output_type": "display_data"
    }
   ],
   "source": [
    "plt.figure(figsize=(16,12))\n",
    "\n",
    "sns.countplot(x = 'source_screen_name', data = train_data)\n",
    "\n",
    "plt.title('Number of Different Source Screen Name',fontsize=14)\n",
    "\n",
    "ax = plt.gca()\n",
    "\n",
    "for tick in ax.get_xticklabels():\n",
    "    tick.set_rotation(90)\n",
    "\n",
    "plt.show()"
   ]
  },
  {
   "cell_type": "markdown",
   "id": "37f2a1ed",
   "metadata": {},
   "source": [
    "#### Different source type"
   ]
  },
  {
   "cell_type": "code",
   "execution_count": 19,
   "id": "fcaeaa9b",
   "metadata": {},
   "outputs": [
    {
     "data": {
      "text/plain": [
       "12"
      ]
     },
     "execution_count": 19,
     "metadata": {},
     "output_type": "execute_result"
    }
   ],
   "source": [
    "train_data['source_type'].nunique()"
   ]
  },
  {
   "cell_type": "code",
   "execution_count": 20,
   "id": "8ac5d8b0",
   "metadata": {},
   "outputs": [
    {
     "data": {
      "text/plain": [
       "array(['online-playlist', 'local-playlist', 'local-library',\n",
       "       'top-hits-for-artist', 'album', nan, 'song-based-playlist',\n",
       "       'radio', 'song', 'listen-with', 'artist', 'topic-article-playlist',\n",
       "       'my-daily-playlist'], dtype=object)"
      ]
     },
     "execution_count": 20,
     "metadata": {},
     "output_type": "execute_result"
    }
   ],
   "source": [
    "train_data['source_type'].unique()"
   ]
  },
  {
   "cell_type": "code",
   "execution_count": 21,
   "id": "8c31a4de",
   "metadata": {},
   "outputs": [
    {
     "data": {
      "text/plain": [
       "local-library             2261399\n",
       "online-playlist           1967924\n",
       "local-playlist            1079503\n",
       "radio                      483109\n",
       "album                      477344\n",
       "top-hits-for-artist        423614\n",
       "song                       244722\n",
       "song-based-playlist        210527\n",
       "listen-with                192842\n",
       "topic-article-playlist      11194\n",
       "artist                       3038\n",
       "my-daily-playlist             663\n",
       "Name: source_type, dtype: int64"
      ]
     },
     "execution_count": 21,
     "metadata": {},
     "output_type": "execute_result"
    }
   ],
   "source": [
    "train_data['source_type'].value_counts()"
   ]
  },
  {
   "cell_type": "code",
   "execution_count": 22,
   "id": "c51e3a77",
   "metadata": {},
   "outputs": [
    {
     "data": {
      "image/png": "[encoded data removed]",
      "text/plain": [
       "<Figure size 1152x864 with 1 Axes>"
      ]
     },
     "metadata": {
      "needs_background": "light"
     },
     "output_type": "display_data"
    }
   ],
   "source": [
    "plt.figure(figsize=(16,12))\n",
    "\n",
    "sns.countplot(x = 'source_type', data = train_data)\n",
    "\n",
    "plt.title('Number of Different Source type',fontsize=14)\n",
    "\n",
    "ax = plt.gca()\n",
    "\n",
    "for tick in ax.get_xticklabels():\n",
    "    tick.set_rotation(90)\n",
    "\n",
    "plt.show()"
   ]
  },
  {
   "cell_type": "markdown",
   "id": "eb31ffa4",
   "metadata": {},
   "source": [
    "### members.csv file"
   ]
  },
  {
   "cell_type": "code",
   "execution_count": 46,
   "id": "32341eaa",
   "metadata": {},
   "outputs": [],
   "source": [
    "members_data = pd.read_csv(\"../Data/members.csv\", sep=',', parse_dates=True)"
   ]
  },
  {
   "cell_type": "markdown",
   "id": "a269365c",
   "metadata": {},
   "source": [
    "#### Printing the first few rows"
   ]
  },
  {
   "cell_type": "code",
   "execution_count": 47,
   "id": "d98ac770",
   "metadata": {},
   "outputs": [
    {
     "data": {
      "text/html": [
       "<div>\n",
       "<style scoped>\n",
       "    .dataframe tbody tr th:only-of-type {\n",
       "        vertical-align: middle;\n",
       "    }\n",
       "\n",
       "    .dataframe tbody tr th {\n",
       "        vertical-align: top;\n",
       "    }\n",
       "\n",
       "    .dataframe thead th {\n",
       "        text-align: right;\n",
       "    }\n",
       "</style>\n",
       "<table border=\"1\" class=\"dataframe\">\n",
       "  <thead>\n",
       "    <tr style=\"text-align: right;\">\n",
       "      <th></th>\n",
       "      <th>msno</th>\n",
       "      <th>city</th>\n",
       "      <th>bd</th>\n",
       "      <th>gender</th>\n",
       "      <th>registered_via</th>\n",
       "      <th>registration_init_time</th>\n",
       "      <th>expiration_date</th>\n",
       "    </tr>\n",
       "  </thead>\n",
       "  <tbody>\n",
       "    <tr>\n",
       "      <th>0</th>\n",
       "      <td>XQxgAYj3klVKjR3oxPPXYYFp4soD4TuBghkhMTD4oTw=</td>\n",
       "      <td>1</td>\n",
       "      <td>0</td>\n",
       "      <td>NaN</td>\n",
       "      <td>7</td>\n",
       "      <td>20110820</td>\n",
       "      <td>20170920</td>\n",
       "    </tr>\n",
       "    <tr>\n",
       "      <th>1</th>\n",
       "      <td>UizsfmJb9mV54qE9hCYyU07Va97c0lCRLEQX3ae+ztM=</td>\n",
       "      <td>1</td>\n",
       "      <td>0</td>\n",
       "      <td>NaN</td>\n",
       "      <td>7</td>\n",
       "      <td>20150628</td>\n",
       "      <td>20170622</td>\n",
       "    </tr>\n",
       "    <tr>\n",
       "      <th>2</th>\n",
       "      <td>D8nEhsIOBSoE6VthTaqDX8U6lqjJ7dLdr72mOyLya2A=</td>\n",
       "      <td>1</td>\n",
       "      <td>0</td>\n",
       "      <td>NaN</td>\n",
       "      <td>4</td>\n",
       "      <td>20160411</td>\n",
       "      <td>20170712</td>\n",
       "    </tr>\n",
       "    <tr>\n",
       "      <th>3</th>\n",
       "      <td>mCuD+tZ1hERA/o5GPqk38e041J8ZsBaLcu7nGoIIvhI=</td>\n",
       "      <td>1</td>\n",
       "      <td>0</td>\n",
       "      <td>NaN</td>\n",
       "      <td>9</td>\n",
       "      <td>20150906</td>\n",
       "      <td>20150907</td>\n",
       "    </tr>\n",
       "    <tr>\n",
       "      <th>4</th>\n",
       "      <td>q4HRBfVSssAFS9iRfxWrohxuk9kCYMKjHOEagUMV6rQ=</td>\n",
       "      <td>1</td>\n",
       "      <td>0</td>\n",
       "      <td>NaN</td>\n",
       "      <td>4</td>\n",
       "      <td>20170126</td>\n",
       "      <td>20170613</td>\n",
       "    </tr>\n",
       "    <tr>\n",
       "      <th>5</th>\n",
       "      <td>zgPOEyUn5a/Fvuzb3m69ajzxjkbblVtObglW89FzLdo=</td>\n",
       "      <td>13</td>\n",
       "      <td>43</td>\n",
       "      <td>female</td>\n",
       "      <td>9</td>\n",
       "      <td>20120703</td>\n",
       "      <td>20171006</td>\n",
       "    </tr>\n",
       "    <tr>\n",
       "      <th>6</th>\n",
       "      <td>Sw9AT8QoR4wWiNUqHZUH6g5ahzGUx4lo1g+Y3xE2f2M=</td>\n",
       "      <td>1</td>\n",
       "      <td>0</td>\n",
       "      <td>NaN</td>\n",
       "      <td>4</td>\n",
       "      <td>20160326</td>\n",
       "      <td>20160329</td>\n",
       "    </tr>\n",
       "    <tr>\n",
       "      <th>7</th>\n",
       "      <td>pg6bT2XZkSP1TDBy4qn3HBPY/HffKQ/bg8WIISQYBSY=</td>\n",
       "      <td>1</td>\n",
       "      <td>0</td>\n",
       "      <td>NaN</td>\n",
       "      <td>7</td>\n",
       "      <td>20160130</td>\n",
       "      <td>20170930</td>\n",
       "    </tr>\n",
       "    <tr>\n",
       "      <th>8</th>\n",
       "      <td>kfk1AdTNH2dNqF5LzIs4e0vwGPejw2jrnFjJlcYnEgk=</td>\n",
       "      <td>1</td>\n",
       "      <td>0</td>\n",
       "      <td>NaN</td>\n",
       "      <td>7</td>\n",
       "      <td>20110111</td>\n",
       "      <td>20170930</td>\n",
       "    </tr>\n",
       "    <tr>\n",
       "      <th>9</th>\n",
       "      <td>tscijwx4dbEp0NXGl+iFtHJ8zrj+TkcMrduOQk9t+gE=</td>\n",
       "      <td>1</td>\n",
       "      <td>0</td>\n",
       "      <td>NaN</td>\n",
       "      <td>7</td>\n",
       "      <td>20160217</td>\n",
       "      <td>20170613</td>\n",
       "    </tr>\n",
       "  </tbody>\n",
       "</table>\n",
       "</div>"
      ],
      "text/plain": [
       "                                           msno  city  bd  gender  \\\n",
       "0  XQxgAYj3klVKjR3oxPPXYYFp4soD4TuBghkhMTD4oTw=     1   0     NaN   \n",
       "1  UizsfmJb9mV54qE9hCYyU07Va97c0lCRLEQX3ae+ztM=     1   0     NaN   \n",
       "2  D8nEhsIOBSoE6VthTaqDX8U6lqjJ7dLdr72mOyLya2A=     1   0     NaN   \n",
       "3  mCuD+tZ1hERA/o5GPqk38e041J8ZsBaLcu7nGoIIvhI=     1   0     NaN   \n",
       "4  q4HRBfVSssAFS9iRfxWrohxuk9kCYMKjHOEagUMV6rQ=     1   0     NaN   \n",
       "5  zgPOEyUn5a/Fvuzb3m69ajzxjkbblVtObglW89FzLdo=    13  43  female   \n",
       "6  Sw9AT8QoR4wWiNUqHZUH6g5ahzGUx4lo1g+Y3xE2f2M=     1   0     NaN   \n",
       "7  pg6bT2XZkSP1TDBy4qn3HBPY/HffKQ/bg8WIISQYBSY=     1   0     NaN   \n",
       "8  kfk1AdTNH2dNqF5LzIs4e0vwGPejw2jrnFjJlcYnEgk=     1   0     NaN   \n",
       "9  tscijwx4dbEp0NXGl+iFtHJ8zrj+TkcMrduOQk9t+gE=     1   0     NaN   \n",
       "\n",
       "   registered_via  registration_init_time  expiration_date  \n",
       "0               7                20110820         20170920  \n",
       "1               7                20150628         20170622  \n",
       "2               4                20160411         20170712  \n",
       "3               9                20150906         20150907  \n",
       "4               4                20170126         20170613  \n",
       "5               9                20120703         20171006  \n",
       "6               4                20160326         20160329  \n",
       "7               7                20160130         20170930  \n",
       "8               7                20110111         20170930  \n",
       "9               7                20160217         20170613  "
      ]
     },
     "execution_count": 47,
     "metadata": {},
     "output_type": "execute_result"
    }
   ],
   "source": [
    "members_data.head(10)"
   ]
  },
  {
   "cell_type": "markdown",
   "id": "d3443112",
   "metadata": {},
   "source": [
    "#### Getting the info of members_data DataFrame"
   ]
  },
  {
   "cell_type": "code",
   "execution_count": 48,
   "id": "be685e89",
   "metadata": {},
   "outputs": [
    {
     "name": "stdout",
     "output_type": "stream",
     "text": [
      "<class 'pandas.core.frame.DataFrame'>\n",
      "RangeIndex: 34403 entries, 0 to 34402\n",
      "Data columns (total 7 columns):\n",
      " #   Column                  Non-Null Count  Dtype \n",
      "---  ------                  --------------  ----- \n",
      " 0   msno                    34403 non-null  object\n",
      " 1   city                    34403 non-null  int64 \n",
      " 2   bd                      34403 non-null  int64 \n",
      " 3   gender                  14501 non-null  object\n",
      " 4   registered_via          34403 non-null  int64 \n",
      " 5   registration_init_time  34403 non-null  int64 \n",
      " 6   expiration_date         34403 non-null  int64 \n",
      "dtypes: int64(5), object(2)\n",
      "memory usage: 1.8+ MB\n"
     ]
    }
   ],
   "source": [
    "members_data.info()"
   ]
  },
  {
   "cell_type": "markdown",
   "id": "811995df",
   "metadata": {},
   "source": [
    "The `members.csv` or the `members_data` DataFrame contains total `34403` records. (Note: There are `30755` numbers of distinct users in the data) and `7` columns. It contains information regarding the user.\n",
    "\n",
    "The columns are following:\n",
    "\n",
    "- **msno:** Identification of the user\n",
    "\n",
    "- **city:** The integer showing city number\n",
    "\n",
    "- **bd:** age of the user. Note that this column has outlier.\n",
    "\n",
    "- **gender:** Gender of the user\n",
    "\n",
    "- **registered_via:** Method of registration\n",
    "\n",
    "- **registration_init_time:** Date of registration in the format %Y%m%d\n",
    "\n",
    "- **expiration_date:** Date of expiry in the format %Y%m%d"
   ]
  },
  {
   "cell_type": "markdown",
   "id": "dd88ad74",
   "metadata": {},
   "source": [
    "Note that columns `registration_init_time` and `expiration_date` should be in date format (not int)"
   ]
  },
  {
   "cell_type": "markdown",
   "id": "207f62a6",
   "metadata": {},
   "source": [
    "#### converting date column to pandas date-time"
   ]
  },
  {
   "cell_type": "code",
   "execution_count": 49,
   "id": "e7989a77",
   "metadata": {},
   "outputs": [],
   "source": [
    "members_data['registration_init_time'] = members_data['registration_init_time'].apply(lambda x: pd.to_datetime(str(x), format='%Y%m%d'))\n",
    "members_data['expiration_date'] = members_data['expiration_date'].apply(lambda x: pd.to_datetime(str(x), format='%Y%m%d'))"
   ]
  },
  {
   "cell_type": "code",
   "execution_count": 50,
   "id": "24138d3e",
   "metadata": {},
   "outputs": [
    {
     "name": "stdout",
     "output_type": "stream",
     "text": [
      "<class 'pandas.core.frame.DataFrame'>\n",
      "RangeIndex: 34403 entries, 0 to 34402\n",
      "Data columns (total 7 columns):\n",
      " #   Column                  Non-Null Count  Dtype         \n",
      "---  ------                  --------------  -----         \n",
      " 0   msno                    34403 non-null  object        \n",
      " 1   city                    34403 non-null  int64         \n",
      " 2   bd                      34403 non-null  int64         \n",
      " 3   gender                  14501 non-null  object        \n",
      " 4   registered_via          34403 non-null  int64         \n",
      " 5   registration_init_time  34403 non-null  datetime64[ns]\n",
      " 6   expiration_date         34403 non-null  datetime64[ns]\n",
      "dtypes: datetime64[ns](2), int64(3), object(2)\n",
      "memory usage: 1.8+ MB\n"
     ]
    }
   ],
   "source": [
    "members_data.info()"
   ]
  },
  {
   "cell_type": "code",
   "execution_count": 51,
   "id": "5ba251ed",
   "metadata": {},
   "outputs": [
    {
     "data": {
      "text/html": [
       "<div>\n",
       "<style scoped>\n",
       "    .dataframe tbody tr th:only-of-type {\n",
       "        vertical-align: middle;\n",
       "    }\n",
       "\n",
       "    .dataframe tbody tr th {\n",
       "        vertical-align: top;\n",
       "    }\n",
       "\n",
       "    .dataframe thead th {\n",
       "        text-align: right;\n",
       "    }\n",
       "</style>\n",
       "<table border=\"1\" class=\"dataframe\">\n",
       "  <thead>\n",
       "    <tr style=\"text-align: right;\">\n",
       "      <th></th>\n",
       "      <th>msno</th>\n",
       "      <th>city</th>\n",
       "      <th>bd</th>\n",
       "      <th>gender</th>\n",
       "      <th>registered_via</th>\n",
       "      <th>registration_init_time</th>\n",
       "      <th>expiration_date</th>\n",
       "    </tr>\n",
       "  </thead>\n",
       "  <tbody>\n",
       "    <tr>\n",
       "      <th>0</th>\n",
       "      <td>XQxgAYj3klVKjR3oxPPXYYFp4soD4TuBghkhMTD4oTw=</td>\n",
       "      <td>1</td>\n",
       "      <td>0</td>\n",
       "      <td>NaN</td>\n",
       "      <td>7</td>\n",
       "      <td>2011-08-20</td>\n",
       "      <td>2017-09-20</td>\n",
       "    </tr>\n",
       "    <tr>\n",
       "      <th>1</th>\n",
       "      <td>UizsfmJb9mV54qE9hCYyU07Va97c0lCRLEQX3ae+ztM=</td>\n",
       "      <td>1</td>\n",
       "      <td>0</td>\n",
       "      <td>NaN</td>\n",
       "      <td>7</td>\n",
       "      <td>2015-06-28</td>\n",
       "      <td>2017-06-22</td>\n",
       "    </tr>\n",
       "    <tr>\n",
       "      <th>2</th>\n",
       "      <td>D8nEhsIOBSoE6VthTaqDX8U6lqjJ7dLdr72mOyLya2A=</td>\n",
       "      <td>1</td>\n",
       "      <td>0</td>\n",
       "      <td>NaN</td>\n",
       "      <td>4</td>\n",
       "      <td>2016-04-11</td>\n",
       "      <td>2017-07-12</td>\n",
       "    </tr>\n",
       "    <tr>\n",
       "      <th>3</th>\n",
       "      <td>mCuD+tZ1hERA/o5GPqk38e041J8ZsBaLcu7nGoIIvhI=</td>\n",
       "      <td>1</td>\n",
       "      <td>0</td>\n",
       "      <td>NaN</td>\n",
       "      <td>9</td>\n",
       "      <td>2015-09-06</td>\n",
       "      <td>2015-09-07</td>\n",
       "    </tr>\n",
       "    <tr>\n",
       "      <th>4</th>\n",
       "      <td>q4HRBfVSssAFS9iRfxWrohxuk9kCYMKjHOEagUMV6rQ=</td>\n",
       "      <td>1</td>\n",
       "      <td>0</td>\n",
       "      <td>NaN</td>\n",
       "      <td>4</td>\n",
       "      <td>2017-01-26</td>\n",
       "      <td>2017-06-13</td>\n",
       "    </tr>\n",
       "  </tbody>\n",
       "</table>\n",
       "</div>"
      ],
      "text/plain": [
       "                                           msno  city  bd gender  \\\n",
       "0  XQxgAYj3klVKjR3oxPPXYYFp4soD4TuBghkhMTD4oTw=     1   0    NaN   \n",
       "1  UizsfmJb9mV54qE9hCYyU07Va97c0lCRLEQX3ae+ztM=     1   0    NaN   \n",
       "2  D8nEhsIOBSoE6VthTaqDX8U6lqjJ7dLdr72mOyLya2A=     1   0    NaN   \n",
       "3  mCuD+tZ1hERA/o5GPqk38e041J8ZsBaLcu7nGoIIvhI=     1   0    NaN   \n",
       "4  q4HRBfVSssAFS9iRfxWrohxuk9kCYMKjHOEagUMV6rQ=     1   0    NaN   \n",
       "\n",
       "   registered_via registration_init_time expiration_date  \n",
       "0               7             2011-08-20      2017-09-20  \n",
       "1               7             2015-06-28      2017-06-22  \n",
       "2               4             2016-04-11      2017-07-12  \n",
       "3               9             2015-09-06      2015-09-07  \n",
       "4               4             2017-01-26      2017-06-13  "
      ]
     },
     "execution_count": 51,
     "metadata": {},
     "output_type": "execute_result"
    }
   ],
   "source": [
    "members_data.head()"
   ]
  },
  {
   "cell_type": "markdown",
   "id": "4ad019b1",
   "metadata": {},
   "source": [
    "#### Anlysis of null values"
   ]
  },
  {
   "cell_type": "code",
   "execution_count": 52,
   "id": "81cc9fae",
   "metadata": {},
   "outputs": [
    {
     "data": {
      "text/plain": [
       "msno                       0.000000\n",
       "city                       0.000000\n",
       "bd                         0.000000\n",
       "gender                    57.849606\n",
       "registered_via             0.000000\n",
       "registration_init_time     0.000000\n",
       "expiration_date            0.000000\n",
       "dtype: float64"
      ]
     },
     "execution_count": 52,
     "metadata": {},
     "output_type": "execute_result"
    }
   ],
   "source": [
    "100 * members_data.isna().sum() / len(members_data)"
   ]
  },
  {
   "cell_type": "markdown",
   "id": "5268a924",
   "metadata": {},
   "source": [
    "`gender` column has high number of null values. (57.85%)"
   ]
  },
  {
   "cell_type": "markdown",
   "id": "84d19fe9",
   "metadata": {},
   "source": [
    "#### How many unique cities are there"
   ]
  },
  {
   "cell_type": "code",
   "execution_count": 53,
   "id": "586ecedd",
   "metadata": {},
   "outputs": [
    {
     "data": {
      "text/plain": [
       "21"
      ]
     },
     "execution_count": 53,
     "metadata": {},
     "output_type": "execute_result"
    }
   ],
   "source": [
    "members_data['city'].nunique()"
   ]
  },
  {
   "cell_type": "markdown",
   "id": "ec6d9cf8",
   "metadata": {},
   "source": [
    "There are `21` unique cities in the data and those are"
   ]
  },
  {
   "cell_type": "code",
   "execution_count": 58,
   "id": "732f1a03",
   "metadata": {},
   "outputs": [
    {
     "data": {
      "text/plain": [
       "[1, 3, 4, 5, 6, 7, 8, 9, 10, 11, 12, 13, 14, 15, 16, 17, 18, 19, 20, 21, 22]"
      ]
     },
     "execution_count": 58,
     "metadata": {},
     "output_type": "execute_result"
    }
   ],
   "source": [
    "sorted(members_data['city'].unique())"
   ]
  },
  {
   "cell_type": "markdown",
   "id": "bfda5729",
   "metadata": {},
   "source": [
    "#### Number of users per city"
   ]
  },
  {
   "cell_type": "code",
   "execution_count": 59,
   "id": "4418694e",
   "metadata": {},
   "outputs": [
    {
     "data": {
      "text/plain": [
       "1     19445\n",
       "13     3395\n",
       "5      2634\n",
       "4      1732\n",
       "15     1525\n",
       "22     1467\n",
       "6       913\n",
       "14      708\n",
       "12      491\n",
       "9       309\n",
       "8       289\n",
       "11      285\n",
       "18      259\n",
       "10      216\n",
       "21      213\n",
       "3       204\n",
       "17      152\n",
       "7        93\n",
       "16       35\n",
       "20       27\n",
       "19       11\n",
       "Name: city, dtype: int64"
      ]
     },
     "execution_count": 59,
     "metadata": {},
     "output_type": "execute_result"
    }
   ],
   "source": [
    "members_data['city'].value_counts()"
   ]
  },
  {
   "cell_type": "markdown",
   "id": "c9355c8f",
   "metadata": {},
   "source": [
    "#### boxplot of bd column\n",
    "\n",
    "as we know any value/point outside the box is consider as outliers"
   ]
  },
  {
   "cell_type": "code",
   "execution_count": 62,
   "id": "b6cd9818",
   "metadata": {},
   "outputs": [
    {
     "data": {
      "image/png": "[encoded data removed]",
      "text/plain": [
       "<Figure size 576x432 with 1 Axes>"
      ]
     },
     "metadata": {
      "needs_background": "light"
     },
     "output_type": "display_data"
    }
   ],
   "source": [
    "plt.figure(figsize=(8,6))\n",
    "sns.boxplot(x=\"bd\",data=members_data)\n",
    "plt.grid()\n",
    "plt.show()"
   ]
  },
  {
   "cell_type": "markdown",
   "id": "dbfa6ffd",
   "metadata": {},
   "source": [
    "So most of the members have 0 age (clearly this information is not useful to us for building models).  "
   ]
  },
  {
   "cell_type": "markdown",
   "id": "bf1c63c2",
   "metadata": {},
   "source": [
    "#### registration_init_time"
   ]
  },
  {
   "cell_type": "code",
   "execution_count": 83,
   "id": "ce17dc75",
   "metadata": {},
   "outputs": [
    {
     "data": {
      "text/plain": [
       "2004-03-26     2\n",
       "2004-03-27    11\n",
       "2004-03-28    13\n",
       "2004-03-29     4\n",
       "2004-03-30     7\n",
       "              ..\n",
       "2017-02-24    64\n",
       "2017-02-25    91\n",
       "2017-02-26    75\n",
       "2017-02-27    93\n",
       "2017-02-28    74\n",
       "Name: registration_init_time, Length: 3862, dtype: int64"
      ]
     },
     "execution_count": 83,
     "metadata": {},
     "output_type": "execute_result"
    }
   ],
   "source": [
    "members_data['registration_init_time'].value_counts().sort_index()"
   ]
  },
  {
   "cell_type": "markdown",
   "id": "c5a10fae",
   "metadata": {},
   "source": [
    "Hence, registration_init_time doesn't have any outliers"
   ]
  },
  {
   "cell_type": "markdown",
   "id": "d88fb2a1",
   "metadata": {},
   "source": [
    "#### histogram of registration_init_time"
   ]
  },
  {
   "cell_type": "code",
   "execution_count": 67,
   "id": "f307cfaa",
   "metadata": {},
   "outputs": [
    {
     "data": {
      "image/png": "[encoded data removed]",
      "text/plain": [
       "<Figure size 1440x720 with 1 Axes>"
      ]
     },
     "metadata": {
      "needs_background": "light"
     },
     "output_type": "display_data"
    }
   ],
   "source": [
    "plt.figure(figsize=(20,10))\n",
    "\n",
    "sns.histplot(data=members_data, x='registration_init_time')\n",
    "\n",
    "plt.title('Histogram plot for registration_init_time',fontsize=20)\n",
    "\n",
    "plt.grid()\n",
    "  \n",
    "plt.show() "
   ]
  },
  {
   "cell_type": "markdown",
   "id": "69892558",
   "metadata": {},
   "source": [
    "#### expiration_date"
   ]
  },
  {
   "cell_type": "code",
   "execution_count": 84,
   "id": "138f297e",
   "metadata": {},
   "outputs": [
    {
     "data": {
      "text/plain": [
       "1970-01-01    1\n",
       "2004-10-15    1\n",
       "2004-10-16    1\n",
       "2004-10-20    1\n",
       "2005-06-10    1\n",
       "             ..\n",
       "2019-09-21    1\n",
       "2019-12-07    1\n",
       "2019-12-29    1\n",
       "2020-01-22    1\n",
       "2020-10-17    1\n",
       "Name: expiration_date, Length: 1484, dtype: int64"
      ]
     },
     "execution_count": 84,
     "metadata": {},
     "output_type": "execute_result"
    }
   ],
   "source": [
    "members_data['expiration_date'].value_counts().sort_index()"
   ]
  },
  {
   "cell_type": "markdown",
   "id": "4b4fc34b",
   "metadata": {},
   "source": [
    "It contains one outlier '1970-01-01'"
   ]
  },
  {
   "cell_type": "markdown",
   "id": "cfb38443",
   "metadata": {},
   "source": [
    "#### histogram of expiration_date"
   ]
  },
  {
   "cell_type": "code",
   "execution_count": 85,
   "id": "892aab92",
   "metadata": {},
   "outputs": [
    {
     "data": {
      "image/png": "[encoded data removed]",
      "text/plain": [
       "<Figure size 1440x720 with 1 Axes>"
      ]
     },
     "metadata": {
      "needs_background": "light"
     },
     "output_type": "display_data"
    }
   ],
   "source": [
    "plt.figure(figsize=(20,10))\n",
    "\n",
    "data = members_data[members_data['expiration_date'] !=pd.to_datetime('19700101',format=\"%Y%m%d\")]\n",
    "\n",
    "sns.histplot(data=data, x='expiration_date')\n",
    "\n",
    "plt.title('Histogram plot for expiration_date',fontsize=20)\n",
    "\n",
    "plt.grid()\n",
    "  \n",
    "plt.show()"
   ]
  },
  {
   "cell_type": "code",
   "execution_count": null,
   "id": "83a93a45",
   "metadata": {},
   "outputs": [],
   "source": []
  }
 ],
 "metadata": {
  "kernelspec": {
   "display_name": "Python 3 (ipykernel)",
   "language": "python",
   "name": "python3"
  },
  "language_info": {
   "codemirror_mode": {
    "name": "ipython",
    "version": 3
   },
   "file_extension": ".py",
   "mimetype": "text/x-python",
   "name": "python",
   "nbconvert_exporter": "python",
   "pygments_lexer": "ipython3",
   "version": "3.9.7"
  }
 },
 "nbformat": 4,
 "nbformat_minor": 5
}
